{
 "cells": [
  {
   "cell_type": "code",
   "execution_count": 44,
   "metadata": {
    "colab": {},
    "colab_type": "code",
    "id": "26-hs-p5MwFo"
   },
   "outputs": [],
   "source": [
    "from  IPython import display\n",
    "from matplotlib import pyplot as plt\n",
    "import numpy as np\n",
    "import pathlib\n",
    "import shutil\n",
    "import tempfile"
   ]
  },
  {
   "cell_type": "code",
   "execution_count": 88,
   "metadata": {
    "scrolled": true
   },
   "outputs": [
    {
     "name": "stdout",
     "output_type": "stream",
     "text": [
      "Collecting git+https://github.com/tensorflow/docs\n",
      "  Cloning https://github.com/tensorflow/docs to /private/var/folders/l2/zx57tnbn4q3661yb5sqjszwr0000gn/T/pip-req-build-17gmm_1w\n",
      "  Running command git clone -q https://github.com/tensorflow/docs /private/var/folders/l2/zx57tnbn4q3661yb5sqjszwr0000gn/T/pip-req-build-17gmm_1w\n",
      "Requirement already satisfied: astor in /Users/saulo/opt/anaconda3/lib/python3.7/site-packages (from tensorflow-docs==0.0.0) (0.8.1)\n",
      "Requirement already satisfied: absl-py in /Users/saulo/opt/anaconda3/lib/python3.7/site-packages (from tensorflow-docs==0.0.0) (0.9.0)\n",
      "Requirement already satisfied: six in /Users/saulo/opt/anaconda3/lib/python3.7/site-packages (from tensorflow-docs==0.0.0) (1.12.0)\n",
      "Requirement already satisfied: pathlib2 in /Users/saulo/opt/anaconda3/lib/python3.7/site-packages (from tensorflow-docs==0.0.0) (2.3.5)\n",
      "Requirement already satisfied: pyyaml in /Users/saulo/opt/anaconda3/lib/python3.7/site-packages (from tensorflow-docs==0.0.0) (5.1.2)\n",
      "Building wheels for collected packages: tensorflow-docs\n",
      "  Building wheel for tensorflow-docs (setup.py) ... \u001b[?25ldone\n",
      "\u001b[?25h  Created wheel for tensorflow-docs: filename=tensorflow_docs-0.0.0-cp37-none-any.whl size=77941 sha256=adfc7621e237d6499e05da610e1987ba4ee69b5f2c3b76385cfbc8045dd86730\n",
      "  Stored in directory: /private/var/folders/l2/zx57tnbn4q3661yb5sqjszwr0000gn/T/pip-ephem-wheel-cache-8m9348f0/wheels/eb/1b/35/fce87697be00d2fc63e0b4b395b0d9c7e391a10e98d9a0d97f\n",
      "Successfully built tensorflow-docs\n",
      "Installing collected packages: tensorflow-docs\n",
      "Successfully installed tensorflow-docs-0.0.0\n"
     ]
    }
   ],
   "source": [
    "!pip install git+https://github.com/tensorflow/docs\n",
    "\n",
    "import tensorflow_docs as tfdocs\n",
    "import tensorflow_docs.modeling\n",
    "import tensorflow_docs.plots"
   ]
  },
  {
   "cell_type": "code",
   "execution_count": 91,
   "metadata": {
    "colab": {
     "base_uri": "https://localhost:8080/",
     "height": 34
    },
    "colab_type": "code",
    "executionInfo": {
     "elapsed": 387,
     "status": "ok",
     "timestamp": 1574415124136,
     "user": {
      "displayName": "Saúl saoa",
      "photoUrl": "https://lh3.googleusercontent.com/a-/AAuE7mBHfEa1PauqGbo8zH-8TMFP95oGnietCTNm06Lp=s64",
      "userId": "07521201169884733709"
     },
     "user_tz": 360
    },
    "id": "tJZjUIfeMelm",
    "outputId": "3f944d2f-53a5-4a6c-d0ab-3ba617051169"
   },
   "outputs": [
    {
     "data": {
      "text/plain": [
       "[]"
      ]
     },
     "execution_count": 91,
     "metadata": {},
     "output_type": "execute_result"
    }
   ],
   "source": [
    "import sys\n",
    "import os\n",
    "\n",
    "from tensorflow.python.keras.preprocessing.image import ImageDataGenerator\n",
    "from tensorflow.python.keras import optimizers\n",
    "from tensorflow.python.keras.models import Sequential\n",
    "from tensorflow.python.keras.layers import Dropout, Flatten, Dense, Activation\n",
    "from tensorflow.python.keras.layers import  Convolution2D, MaxPooling2D\n",
    "from tensorflow.python.keras import backend as K\n",
    "\n",
    "K._get_available_gpus()"
   ]
  },
  {
   "cell_type": "code",
   "execution_count": 92,
   "metadata": {},
   "outputs": [
    {
     "name": "stdout",
     "output_type": "stream",
     "text": [
      "2.1.0\n"
     ]
    }
   ],
   "source": [
    "print(tf.__version__)"
   ]
  },
  {
   "cell_type": "code",
   "execution_count": 132,
   "metadata": {
    "colab": {
     "base_uri": "https://localhost:8080/",
     "height": 34
    },
    "colab_type": "code",
    "executionInfo": {
     "elapsed": 389,
     "status": "ok",
     "timestamp": 1574415128635,
     "user": {
      "displayName": "Saúl saoa",
      "photoUrl": "https://lh3.googleusercontent.com/a-/AAuE7mBHfEa1PauqGbo8zH-8TMFP95oGnietCTNm06Lp=s64",
      "userId": "07521201169884733709"
     },
     "user_tz": 360
    },
    "id": "XcpVoVFOMel0",
    "outputId": "9bac8615-c96f-415d-b7c1-f3017a0c9e57"
   },
   "outputs": [
    {
     "data": {
      "text/plain": [
       "<function tensorflow.python.keras.backend.clear_session()>"
      ]
     },
     "execution_count": 132,
     "metadata": {},
     "output_type": "execute_result"
    }
   ],
   "source": [
    "K.clear_session"
   ]
  },
  {
   "cell_type": "code",
   "execution_count": 133,
   "metadata": {
    "colab": {},
    "colab_type": "code",
    "id": "WNZtFhsCMel_"
   },
   "outputs": [],
   "source": [
    "data_entrenamiento=\"Entrenamiento\"\n",
    "data_validacion=\"Validación\""
   ]
  },
  {
   "cell_type": "code",
   "execution_count": 134,
   "metadata": {
    "colab": {},
    "colab_type": "code",
    "id": "Q3_Yys6GMemG"
   },
   "outputs": [],
   "source": [
    "#parametro*\n",
    "epocas=20#iteraciones de la red\n",
    "altura,longitud=100,100\n",
    "lote_size=32#tamaño de lote\n",
    "pasos=1000\n",
    "pasos_validacion=200\n",
    "filtrosConv1=32#filtro convolucional\n",
    "filtrosConv2=64#filtro convolucional 2\n",
    "sizeFil1=(4,4)#tamaño del filtro de imagen matriz de 3,3\n",
    "sizeFil2=(3,3)#filtro 2,2\n",
    "sizePool=(3,3)#tamaño del pooling para la nueva \n",
    "clases=120 #numero de clases de frutas (cuantas hay), el numero puede variar\n",
    "lr=0.00001"
   ]
  },
  {
   "cell_type": "code",
   "execution_count": 135,
   "metadata": {
    "colab": {
     "base_uri": "https://localhost:8080/",
     "height": 34
    },
    "colab_type": "code",
    "executionInfo": {
     "elapsed": 406,
     "status": "ok",
     "timestamp": 1574415134117,
     "user": {
      "displayName": "Saúl saoa",
      "photoUrl": "https://lh3.googleusercontent.com/a-/AAuE7mBHfEa1PauqGbo8zH-8TMFP95oGnietCTNm06Lp=s64",
      "userId": "07521201169884733709"
     },
     "user_tz": 360
    },
    "id": "tz26z82OMemO",
    "outputId": "3bce18f6-a814-4117-e0a0-61d0cc55466b"
   },
   "outputs": [
    {
     "name": "stdout",
     "output_type": "stream",
     "text": [
      "Found 61497 images belonging to 120 classes.\n"
     ]
    }
   ],
   "source": [
    "#Procesamiento de Imagenes\n",
    "entrenamiento_datagen=ImageDataGenerator(\n",
    "rescale=1./255, #Cambiar el rescalado de la imagen de 0 a 255 a 0 a 1 \n",
    "shear_range=0.3,\n",
    "zoom_range=0.3,\n",
    "horizontal_flip=True\n",
    ")\n",
    "validacion_datagen=ImageDataGenerator(\n",
    "rescale=1./255 #Cambiar el rescalado de la imagen de 0 a 255 a 0 a 1 \n",
    "\n",
    ")\n",
    "imagen_entrenamiento=entrenamiento_datagen.flow_from_directory(\n",
    "data_entrenamiento,\n",
    "target_size=(altura,longitud),\n",
    "batch_size=lote_size,\n",
    "class_mode='categorical'\n",
    ")\n"
   ]
  },
  {
   "cell_type": "code",
   "execution_count": 136,
   "metadata": {
    "colab": {
     "base_uri": "https://localhost:8080/",
     "height": 34
    },
    "colab_type": "code",
    "executionInfo": {
     "elapsed": 420,
     "status": "ok",
     "timestamp": 1574415135757,
     "user": {
      "displayName": "Saúl saoa",
      "photoUrl": "https://lh3.googleusercontent.com/a-/AAuE7mBHfEa1PauqGbo8zH-8TMFP95oGnietCTNm06Lp=s64",
      "userId": "07521201169884733709"
     },
     "user_tz": 360
    },
    "id": "Bq07ZmbCMemW",
    "outputId": "5790d306-1982-4bce-8f13-c035d62eb36b"
   },
   "outputs": [
    {
     "name": "stdout",
     "output_type": "stream",
     "text": [
      "Found 20622 images belonging to 120 classes.\n"
     ]
    }
   ],
   "source": [
    "#imagenes de validacion\n",
    "imagen_validacion=validacion_datagen.flow_from_directory(\n",
    "data_validacion,\n",
    "target_size=(altura,longitud),\n",
    "batch_size=lote_size,\n",
    "class_mode='categorical'\n",
    ")"
   ]
  },
  {
   "cell_type": "code",
   "execution_count": 137,
   "metadata": {
    "colab": {},
    "colab_type": "code",
    "id": "0PZevobqMemg"
   },
   "outputs": [],
   "source": [
    "#crear la CNN\n",
    "cnn=Sequential()\n",
    "cnn.add(Convolution2D(filtrosConv1, sizeFil1, padding =\"same\", input_shape=(longitud, altura, 3), activation='relu'))\n",
    "cnn.add(MaxPooling2D(pool_size=sizePool))\n",
    "cnn.add(Dropout(0.2))\n",
    "#primera capa de convolucion con regla de activacion relu para el filtro 1\n",
    "cnn.add(Convolution2D(filtrosConv2, sizeFil2, padding =\"same\"))\n",
    "cnn.add(MaxPooling2D(pool_size=sizePool))\n",
    "#segunda capa de convolucion \n",
    "cnn.add(Dropout(0.2))\n",
    "cnn.add(Flatten())\n",
    "cnn.add(Dense(256, activation='relu'))\n",
    "cnn.add(Dropout(0.2))\n",
    "cnn.add(Dense(clases, activation='softmax'))\n",
    "\n"
   ]
  },
  {
   "cell_type": "code",
   "execution_count": 138,
   "metadata": {
    "colab": {},
    "colab_type": "code",
    "id": "tvMp83TgMemo"
   },
   "outputs": [],
   "source": [
    "cnn.compile(loss='categorical_crossentropy',\n",
    "            optimizer=optimizers.Nadam(lr=lr),\n",
    "            metrics=['accuracy'])\n"
   ]
  },
  {
   "cell_type": "code",
   "execution_count": 139,
   "metadata": {
    "colab": {
     "base_uri": "https://localhost:8080/",
     "height": 164
    },
    "colab_type": "code",
    "executionInfo": {
     "elapsed": 486,
     "status": "error",
     "timestamp": 1575244320330,
     "user": {
      "displayName": "Saúl saoa",
      "photoUrl": "https://lh3.googleusercontent.com/a-/AAuE7mBHfEa1PauqGbo8zH-8TMFP95oGnietCTNm06Lp=s64",
      "userId": "07521201169884733709"
     },
     "user_tz": 360
    },
    "id": "nP1zEpf5Mem8",
    "outputId": "415aae7b-369e-4cc7-80ed-7eb696aafea1",
    "scrolled": true
   },
   "outputs": [
    {
     "name": "stdout",
     "output_type": "stream",
     "text": [
      "Epoch 1/20\n",
      " 999/1000 [============================>.] - ETA: 0s - loss: 4.7194 - acc: 0.0232Epoch 1/20\n",
      "1000/1000 [==============================] - 419s 419ms/step - loss: 4.7193 - acc: 0.0232 - val_loss: 4.5723 - val_acc: 0.0661\n",
      "Epoch 2/20\n",
      " 999/1000 [============================>.] - ETA: 0s - loss: 4.3486 - acc: 0.0606Epoch 1/20\n",
      "1000/1000 [==============================] - 416s 416ms/step - loss: 4.3484 - acc: 0.0605 - val_loss: 3.9267 - val_acc: 0.1317\n",
      "Epoch 3/20\n",
      " 999/1000 [============================>.] - ETA: 0s - loss: 3.7732 - acc: 0.1192Epoch 1/20\n",
      "1000/1000 [==============================] - 462s 462ms/step - loss: 3.7728 - acc: 0.1193 - val_loss: 3.3127 - val_acc: 0.2914\n",
      "Epoch 4/20\n",
      " 999/1000 [============================>.] - ETA: 0s - loss: 3.3251 - acc: 0.1743Epoch 1/20\n",
      "1000/1000 [==============================] - 434s 434ms/step - loss: 3.3249 - acc: 0.1743 - val_loss: 2.8505 - val_acc: 0.3464\n",
      "Epoch 5/20\n",
      " 999/1000 [============================>.] - ETA: 0s - loss: 2.9692 - acc: 0.2308Epoch 1/20\n",
      "1000/1000 [==============================] - 434s 434ms/step - loss: 2.9687 - acc: 0.2309 - val_loss: 2.5152 - val_acc: 0.4041\n",
      "Epoch 6/20\n",
      " 999/1000 [============================>.] - ETA: 0s - loss: 2.7114 - acc: 0.2769Epoch 1/20\n",
      "1000/1000 [==============================] - 485s 485ms/step - loss: 2.7113 - acc: 0.2768 - val_loss: 2.2314 - val_acc: 0.4663\n",
      "Epoch 7/20\n",
      " 999/1000 [============================>.] - ETA: 0s - loss: 2.4916 - acc: 0.3169Epoch 1/20\n",
      "1000/1000 [==============================] - 450s 450ms/step - loss: 2.4917 - acc: 0.3169 - val_loss: 2.0128 - val_acc: 0.5227\n",
      "Epoch 8/20\n",
      " 999/1000 [============================>.] - ETA: 0s - loss: 2.2963 - acc: 0.3620Epoch 1/20\n",
      "1000/1000 [==============================] - 409s 409ms/step - loss: 2.2960 - acc: 0.3621 - val_loss: 1.8997 - val_acc: 0.5256\n",
      "Epoch 9/20\n",
      " 999/1000 [============================>.] - ETA: 0s - loss: 2.1320 - acc: 0.3971Epoch 1/20\n",
      "1000/1000 [==============================] - 403s 403ms/step - loss: 2.1316 - acc: 0.3972 - val_loss: 1.7334 - val_acc: 0.5648\n",
      "Epoch 10/20\n",
      " 999/1000 [============================>.] - ETA: 0s - loss: 1.9916 - acc: 0.4336Epoch 1/20\n",
      "1000/1000 [==============================] - 424s 424ms/step - loss: 1.9912 - acc: 0.4337 - val_loss: 1.6308 - val_acc: 0.5752\n",
      "Epoch 11/20\n",
      " 999/1000 [============================>.] - ETA: 0s - loss: 1.8678 - acc: 0.4617Epoch 1/20\n",
      "1000/1000 [==============================] - 414s 414ms/step - loss: 1.8680 - acc: 0.4617 - val_loss: 1.5596 - val_acc: 0.5781\n",
      "Epoch 12/20\n",
      " 999/1000 [============================>.] - ETA: 0s - loss: 1.7438 - acc: 0.4918Epoch 1/20\n",
      "1000/1000 [==============================] - 418s 418ms/step - loss: 1.7441 - acc: 0.4916 - val_loss: 1.4616 - val_acc: 0.6077\n",
      "Epoch 13/20\n",
      " 999/1000 [============================>.] - ETA: 0s - loss: 1.6483 - acc: 0.5141Epoch 1/20\n",
      "1000/1000 [==============================] - 416s 416ms/step - loss: 1.6485 - acc: 0.5141 - val_loss: 1.3967 - val_acc: 0.6158\n",
      "Epoch 14/20\n",
      " 999/1000 [============================>.] - ETA: 0s - loss: 1.5474 - acc: 0.5448Epoch 1/20\n",
      "1000/1000 [==============================] - 416s 416ms/step - loss: 1.5473 - acc: 0.5448 - val_loss: 1.3428 - val_acc: 0.6258\n",
      "Epoch 15/20\n",
      " 999/1000 [============================>.] - ETA: 0s - loss: 1.4665 - acc: 0.5618Epoch 1/20\n",
      "1000/1000 [==============================] - 505s 505ms/step - loss: 1.4664 - acc: 0.5618 - val_loss: 1.2756 - val_acc: 0.6455\n",
      "Epoch 16/20\n",
      " 999/1000 [============================>.] - ETA: 0s - loss: 1.4030 - acc: 0.5836Epoch 1/20\n",
      "1000/1000 [==============================] - 510s 510ms/step - loss: 1.4026 - acc: 0.5837 - val_loss: 1.2317 - val_acc: 0.6641\n",
      "Epoch 17/20\n",
      " 999/1000 [============================>.] - ETA: 0s - loss: 1.3256 - acc: 0.6005Epoch 1/20\n",
      "1000/1000 [==============================] - 540s 540ms/step - loss: 1.3257 - acc: 0.6005 - val_loss: 1.1765 - val_acc: 0.6725\n",
      "Epoch 18/20\n",
      " 999/1000 [============================>.] - ETA: 0s - loss: 1.2736 - acc: 0.6161Epoch 1/20\n",
      "1000/1000 [==============================] - 530s 530ms/step - loss: 1.2737 - acc: 0.6162 - val_loss: 1.1415 - val_acc: 0.6839\n",
      "Epoch 19/20\n",
      " 999/1000 [============================>.] - ETA: 0s - loss: 1.1988 - acc: 0.6362Epoch 1/20\n",
      "1000/1000 [==============================] - 518s 518ms/step - loss: 1.1988 - acc: 0.6362 - val_loss: 1.1039 - val_acc: 0.6808\n",
      "Epoch 20/20\n",
      " 999/1000 [============================>.] - ETA: 0s - loss: 1.1453 - acc: 0.6506Epoch 1/20\n",
      "1000/1000 [==============================] - 503s 503ms/step - loss: 1.1450 - acc: 0.6507 - val_loss: 1.0657 - val_acc: 0.7042\n"
     ]
    }
   ],
   "source": [
    "history=cnn.fit_generator(imagen_entrenamiento,steps_per_epoch=pasos,epochs=epocas,validation_data=imagen_validacion, validation_steps=pasos_validacion)"
   ]
  },
  {
   "cell_type": "code",
   "execution_count": 151,
   "metadata": {},
   "outputs": [
    {
     "name": "stdout",
     "output_type": "stream",
     "text": [
      "dict_keys(['loss', 'acc', 'val_loss', 'val_acc'])\n"
     ]
    },
    {
     "data": {
      "image/png": "[encoded data removed]",
      "text/plain": [
       "<Figure size 432x288 with 1 Axes>"
      ]
     },
     "metadata": {
      "needs_background": "light"
     },
     "output_type": "display_data"
    }
   ],
   "source": [
    "print(history.history.keys())\n",
    "plt.plot(history.history['acc'])\n",
    "plt.plot(history.history['val_acc'])\n",
    "plt.title('Precisión del modelo')\n",
    "plt.ylabel(\"precisión\")\n",
    "plt.xlabel(\"epoca\")\n",
    "plt.legend(['train', 'test'], loc='upper left')\n",
    "plt.grid()\n",
    "plt.savefig(\"precisión.jpg\")\n",
    "plt.show()"
   ]
  },
  {
   "cell_type": "code",
   "execution_count": 152,
   "metadata": {},
   "outputs": [
    {
     "data": {
      "image/png": "[encoded data removed]",
      "text/plain": [
       "<Figure size 432x288 with 1 Axes>"
      ]
     },
     "metadata": {
      "needs_background": "light"
     },
     "output_type": "display_data"
    }
   ],
   "source": [
    "plt.plot(history.history['loss'])\n",
    "plt.plot(history.history['val_loss'])\n",
    "plt.title('Perdida del modelo')\n",
    "plt.ylabel('perdida')\n",
    "plt.xlabel('epoca')\n",
    "plt.legend(['train', 'test'], loc='upper left')\n",
    "plt.grid()\n",
    "plt.savefig(\"perdida.jpg\")\n",
    "plt.show()"
   ]
  },
  {
   "cell_type": "code",
   "execution_count": 129,
   "metadata": {
    "colab": {},
    "colab_type": "code",
    "id": "tse8BPzFMenE"
   },
   "outputs": [],
   "source": [
    "\n",
    "\n",
    "target_dir = './modelo/'\n",
    "if not os.path.exists(target_dir):\n",
    "  os.mkdir(target_dir)\n",
    "cnn.save('./modelo/modelo.h5')\n",
    "cnn.save_weights('./modelo/pesos.h5')"
   ]
  }
 ],
 "metadata": {
  "accelerator": "GPU",
  "colab": {
   "collapsed_sections": [],
   "name": "Frutas.ipynb",
   "provenance": []
  },
  "kernelspec": {
   "display_name": "Python 3",
   "language": "python",
   "name": "python3"
  },
  "language_info": {
   "codemirror_mode": {
    "name": "ipython",
    "version": 3
   },
   "file_extension": ".py",
   "mimetype": "text/x-python",
   "name": "python",
   "nbconvert_exporter": "python",
   "pygments_lexer": "ipython3",
   "version": "3.7.4"
  }
 },
 "nbformat": 4,
 "nbformat_minor": 1
}
